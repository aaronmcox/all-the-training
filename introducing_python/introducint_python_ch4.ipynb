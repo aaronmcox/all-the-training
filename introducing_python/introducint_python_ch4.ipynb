{
 "cells": [
  {
   "cell_type": "markdown",
   "metadata": {},
   "source": [
    "# Introducing Python\n",
    "\n",
    "In order to learn to use Jupyter while making my way through several python, statistics, and data science-y books, I've decided to document my progress and run my code snippets in notebooks.  Will see how effective this is as we get into system oriented bits, but it will certainly be interesting to find out.\n",
    "\n",
    "I've started reading this book as a review and to catch any useful languages I've missed, so this book should be a fairly quick walkthrough.  I've made my way through the first 3 chapters and will be beginning my work with Chapter 4.  With that said...\n",
    "\n",
    "## Chapter 4 -- Py Crust: Code Structures\n",
    "\n",
    "As in JavaScript, Python primitives and empty data structures are *falsy* when empty"
   ]
  },
  {
   "cell_type": "code",
   "execution_count": 55,
   "metadata": {},
   "outputs": [],
   "source": [
    "from pprint import pprint\n",
    "import tracemalloc"
   ]
  },
  {
   "cell_type": "code",
   "execution_count": 6,
   "metadata": {},
   "outputs": [
    {
     "name": "stdout",
     "output_type": "stream",
     "text": [
      "False\n",
      "\trings false!\n",
      "None\n",
      "\trings false!\n",
      "0\n",
      "\trings false!\n",
      "0.0\n",
      "\trings false!\n",
      "\n",
      "\trings false!\n",
      "[]\n",
      "\trings false!\n",
      "()\n",
      "\trings false!\n",
      "{}\n",
      "\trings false!\n",
      "set()\n",
      "\trings false!\n",
      "1\n",
      "\trings true...\n"
     ]
    }
   ],
   "source": [
    "falseVals = [False, None, 0, 0.0, '', [], (), {}, set(), 1];\n",
    "\n",
    "for v in falseVals:\n",
    "    print(str(v), end=\"\\n\\t\");\n",
    "    if v:\n",
    "        print(\"rings true...\")\n",
    "    else:\n",
    "        print(\"rings false!\")           \n",
    "    "
   ]
  },
  {
   "cell_type": "markdown",
   "metadata": {},
   "source": [
    "In Python, the while and for loops have an optional else statement that is executed when the loop ends normally. A break-checker, as it were."
   ]
  },
  {
   "cell_type": "code",
   "execution_count": 9,
   "metadata": {},
   "outputs": [
    {
     "name": "stdout",
     "output_type": "stream",
     "text": [
      "No breaks, value of i =  10\n"
     ]
    }
   ],
   "source": [
    "i = 0\n",
    "while i < 10:\n",
    "    i += 1\n",
    "    if i > 10:\n",
    "        break\n",
    "else:\n",
    "    print(\"No breaks, value of i = \",i)"
   ]
  },
  {
   "cell_type": "markdown",
   "metadata": {},
   "source": [
    "### Iteration\n",
    "\n",
    "strings, tuples, dictionaries, sets are all iterable\n",
    "\n",
    "tuple and list iteration yiedls an item at a time, whereas string iteration yields a character (string) at  a time"
   ]
  },
  {
   "cell_type": "code",
   "execution_count": 11,
   "metadata": {},
   "outputs": [
    {
     "name": "stdout",
     "output_type": "stream",
     "text": [
      "a\n",
      "b\n",
      "c\n",
      "1\n",
      "2\n",
      "3\n"
     ]
    }
   ],
   "source": [
    "aString = \"abc\"\n",
    "aTuple  = (1,2,3)\n",
    "\n",
    "for c in aString:\n",
    "    print(c)\n",
    "\n",
    "for e in aTuple:\n",
    "    print(e)"
   ]
  },
  {
   "cell_type": "markdown",
   "metadata": {},
   "source": [
    "Dictionaries are a bit different.\n",
    "- Iterate over the dictionary's keys by iterating over the dict itself or with the keys() method\n",
    "- Iterate over the dictionary's values with the values() method\n",
    "- Iterate over the dictionary's keys and values with items; the iterator yields a (key, value) tuple"
   ]
  },
  {
   "cell_type": "code",
   "execution_count": 15,
   "metadata": {},
   "outputs": [
    {
     "name": "stdout",
     "output_type": "stream",
     "text": [
      "self\n",
      "a\n",
      "b\n",
      "c\n",
      "\n",
      "keys()\n",
      "a\n",
      "b\n",
      "c\n",
      "\n",
      "values()\n",
      "1\n",
      "2\n",
      "3\n",
      "\n",
      "items()\n",
      "(a,1)\n",
      "(b,2)\n",
      "(c,3)\n"
     ]
    }
   ],
   "source": [
    "aDict = {\n",
    "    \"a\" : 1,\n",
    "    \"b\" : 2,\n",
    "    \"c\" : 3,\n",
    "}\n",
    "\n",
    "print(\"self\")\n",
    "for k in aDict:\n",
    "    print(k)\n",
    "print(\"\\nkeys()\")\n",
    "for k in aDict.keys():\n",
    "    print(k)\n",
    "print(\"\\nvalues()\")\n",
    "for v in aDict.values():\n",
    "    print(v)\n",
    "print(\"\\nitems()\")\n",
    "for k,v in aDict.items():\n",
    "    print(\"(\",k,\",\",v,\")\", sep=\"\")"
   ]
  },
  {
   "cell_type": "markdown",
   "metadata": {},
   "source": [
    "The zip() function walks through multiple iterables and creates tuples from them at the same indices"
   ]
  },
  {
   "cell_type": "code",
   "execution_count": 16,
   "metadata": {},
   "outputs": [
    {
     "name": "stdout",
     "output_type": "stream",
     "text": [
      "Monday: NO COOKING\n",
      "Tuesday: Tacos\n",
      "Wednesday: Spaghetti\n",
      "Thursday: Burgers\n",
      "Friday: Pizza\n"
     ]
    }
   ],
   "source": [
    "days  = ['Monday', 'Tuesday', 'Wednesday', 'Thursday', 'Friday']\n",
    "meals = ['NO COOKING', 'Tacos', 'Spaghetti', 'Burgers', 'Pizza']\n",
    "\n",
    "for day,meal in zip(days,meals):\n",
    "    print(day,\": \",meal,sep=\"\")"
   ]
  },
  {
   "cell_type": "markdown",
   "metadata": {},
   "source": [
    "For easily creating a dict with two iterables, use zip to create 2-tuples to form the key-value pairs"
   ]
  },
  {
   "cell_type": "code",
   "execution_count": 54,
   "metadata": {},
   "outputs": [
    {
     "name": "stdout",
     "output_type": "stream",
     "text": [
      "{'Alice': 5, 'Bill': 5, 'Bob': 2}\n"
     ]
    }
   ],
   "source": [
    "critics = ['Bob', 'Bill', 'Alice']\n",
    "ratings = [2, 5, 5]\n",
    "\n",
    "criticRatings = dict(zip(critics, ratings))\n",
    "pprint(criticRatings)"
   ]
  },
  {
   "cell_type": "markdown",
   "metadata": {},
   "source": [
    "range(*start*, *end*, [*incr*]) lets you stream a (potentially very large) list of numbers without having to use memory to generate before hand. In Python3, this one function takes the place of the 2 that existed in Python2, allowing for the more flexible one.\n",
    "\n",
    "If you want to generate the list beforehand, you may use the list() method to convert beforehand"
   ]
  },
  {
   "cell_type": "code",
   "execution_count": 21,
   "metadata": {},
   "outputs": [
    {
     "name": "stdout",
     "output_type": "stream",
     "text": [
      "0 ,1 ,2 ,3 ,4 ,5 ,6 ,7 ,8 ,9 ,\n",
      "0 ,2 ,4 ,6 ,8 ,\n",
      "10 ,9 ,8 ,7 ,6 ,5 ,4 ,3 ,2 ,1 ,0 ,\n",
      "memory with only range:\n",
      "memory with list(range)\n",
      "top snap1 memory eater: [<Statistic traceback=<Traceback (<Frame filename='/usr/local/lib/python3.6/dist-packages/IPython/core/compilerop.py' lineno=99>,)> size=25726 count=478>]\n",
      "top snap2 memory eater: [<Statistic traceback=<Traceback (<Frame filename='<ipython-input-21-fca15cd0059b>' lineno=24>,)> size=3699992972 count=99999746>]\n"
     ]
    }
   ],
   "source": [
    "for i in range(0,10):\n",
    "    print(i,\",\",end=\"\")\n",
    "print()\n",
    "\n",
    "for i in range(0,10,2):\n",
    "    print(i,\",\",end=\"\")\n",
    "print()\n",
    "\n",
    "for i in range(10,-1,-1):\n",
    "    print(i, \",\", end=\"\")\n",
    "print()\n",
    "\n",
    "tracemalloc.start()\n",
    "snap1 = \"\"\n",
    "snap2 = \"\"\n",
    "print(\"memory with only range:\")\n",
    "for i in range(0,100000000):\n",
    "    if i == 99999999:\n",
    "        snap1 = tracemalloc.take_snapshot()\n",
    "\n",
    "print(\"memory with list(range)\")\n",
    "for i in list(range(0,100000000)):\n",
    "    if i == 99999999:\n",
    "        snap2 = tracemalloc.take_snapshot()\n",
    "\n",
    "print(\"top snap1 memory eater:\", snap1.statistics(\"lineno\")[0:1])\n",
    "print(\"top snap2 memory eater:\", snap2.statistics(\"lineno\")[0:1])\n"
   ]
  },
  {
   "cell_type": "markdown",
   "metadata": {},
   "source": [
    "At the final iteration over those two, the list() implementation used signficantly more memory (3699992972 KiB vs not more than 25726 KiB)"
   ]
  },
  {
   "cell_type": "code",
   "execution_count": 22,
   "metadata": {},
   "outputs": [
    {
     "name": "stdout",
     "output_type": "stream",
     "text": [
      "143823.09616730156\n"
     ]
    }
   ],
   "source": [
    "print( 3699992972 / 25726 )"
   ]
  },
  {
   "cell_type": "markdown",
   "metadata": {},
   "source": [
    "### Comprehensions\n",
    "\n",
    "Comprehensions are ideal for succinctly creating lists, dictionaries, sets, and generators"
   ]
  },
  {
   "cell_type": "code",
   "execution_count": 23,
   "metadata": {},
   "outputs": [
    {
     "name": "stdout",
     "output_type": "stream",
     "text": [
      "n_1: [1, 2, 3, 4, 5]\n",
      "n_2: [2, 4, 6, 8, 10]\n",
      "n_odds: [1, 3, 5]\n"
     ]
    }
   ],
   "source": [
    "number_list = [ n for n in range(1,6)]\n",
    "number_list2 = [ 2*n for n in range(1,6)]\n",
    "number_list_odds = [ n for n in range(1,6) if n % 2]\n",
    "\n",
    "print(\"n_1:\",number_list)\n",
    "print(\"n_2:\", number_list2)\n",
    "print(\"n_odds:\", number_list_odds)"
   ]
  },
  {
   "cell_type": "markdown",
   "metadata": {},
   "source": [
    "Now nested loops!"
   ]
  },
  {
   "cell_type": "code",
   "execution_count": 24,
   "metadata": {},
   "outputs": [
    {
     "name": "stdout",
     "output_type": "stream",
     "text": [
      "cells:\n",
      "[(1, 1),\n",
      " (1, 2),\n",
      " (1, 3),\n",
      " (1, 4),\n",
      " (2, 1),\n",
      " (2, 2),\n",
      " (2, 3),\n",
      " (2, 4),\n",
      " (3, 1),\n",
      " (3, 2),\n",
      " (3, 3),\n",
      " (3, 4)]\n",
      "cells2:\n",
      "[(1, 1),\n",
      " (1, 2),\n",
      " (1, 3),\n",
      " (1, 4),\n",
      " (2, 1),\n",
      " (2, 2),\n",
      " (2, 3),\n",
      " (2, 4),\n",
      " (3, 1),\n",
      " (3, 2),\n",
      " (3, 3),\n",
      " (3, 4)]\n"
     ]
    }
   ],
   "source": [
    "rows = [1,2,3]\n",
    "cols = [1,2,3,4]\n",
    "\n",
    "cells = [(row,col) for row in rows for col in cols]\n",
    "\n",
    "# which is equivalent to\n",
    "\n",
    "cells2 = []\n",
    "for row in rows:\n",
    "    for col in cols:\n",
    "        cells2.append((row,col))\n",
    "\n",
    "print(\"cells:\")\n",
    "pprint(cells)\n",
    "print(\"cells2:\")\n",
    "pprint(cells2)"
   ]
  },
  {
   "cell_type": "markdown",
   "metadata": {},
   "source": [
    "Now dict and set comprehensions:"
   ]
  },
  {
   "cell_type": "code",
   "execution_count": 26,
   "metadata": {},
   "outputs": [
    {
     "name": "stdout",
     "output_type": "stream",
     "text": [
      "{'e': 2, 'l': 1, 'r': 1, 's': 1, 't': 2}\n",
      "{1, 3, 4, 5}\n"
     ]
    }
   ],
   "source": [
    "word = \"letters\"\n",
    "letter_counts = { letter: word.count(letter) for letter in word }\n",
    "a_set = { num for num in range(1,6) if num != 2 }\n",
    "\n",
    "pprint(letter_counts)\n",
    "pprint(a_set)"
   ]
  },
  {
   "cell_type": "markdown",
   "metadata": {},
   "source": [
    "### Things to do\n",
    "\n",
    "#### 4.1"
   ]
  },
  {
   "cell_type": "code",
   "execution_count": 27,
   "metadata": {},
   "outputs": [
    {
     "name": "stdout",
     "output_type": "stream",
     "text": [
      "just right\n"
     ]
    }
   ],
   "source": [
    "guess_me = 7\n",
    "\n",
    "if guess_me < 7:\n",
    "    print(\"too low\")\n",
    "elif guess_me > 7:\n",
    "    print(\"too high\")\n",
    "else:\n",
    "    print(\"just right\")\n"
   ]
  },
  {
   "cell_type": "markdown",
   "metadata": {},
   "source": [
    "#### 4.2"
   ]
  },
  {
   "cell_type": "code",
   "execution_count": 29,
   "metadata": {},
   "outputs": [
    {
     "name": "stdout",
     "output_type": "stream",
     "text": [
      "too low\n",
      "too low\n",
      "too low\n",
      "too low\n",
      "too low\n",
      "too low\n",
      "found it!\n"
     ]
    }
   ],
   "source": [
    "start = 1\n",
    "\n",
    "while start <= guess_me:\n",
    "    if start < guess_me:\n",
    "        print(\"too low\")\n",
    "    if start == guess_me:\n",
    "        print(\"found it!\")\n",
    "        break\n",
    "    if start > guess_me:\n",
    "        print(\"oops\")\n",
    "        break\n",
    "    start += 1\n"
   ]
  },
  {
   "cell_type": "markdown",
   "metadata": {},
   "source": [
    "#### 4.3"
   ]
  },
  {
   "cell_type": "code",
   "execution_count": 30,
   "metadata": {},
   "outputs": [
    {
     "name": "stdout",
     "output_type": "stream",
     "text": [
      "3\n",
      "2\n",
      "1\n",
      "0\n"
     ]
    }
   ],
   "source": [
    "l = [3,2,1,0]\n",
    "for i in l:\n",
    "    print(i)\n"
   ]
  },
  {
   "cell_type": "markdown",
   "metadata": {},
   "source": [
    "#### 4.4"
   ]
  },
  {
   "cell_type": "code",
   "execution_count": 31,
   "metadata": {},
   "outputs": [
    {
     "name": "stdout",
     "output_type": "stream",
     "text": [
      "[0, 2, 4, 6, 8]\n"
     ]
    }
   ],
   "source": [
    "evens = [ n for n in range(10) if not n % 2]\n",
    "\n",
    "print(evens)"
   ]
  },
  {
   "cell_type": "markdown",
   "metadata": {},
   "source": [
    "#### 4.5"
   ]
  },
  {
   "cell_type": "code",
   "execution_count": 32,
   "metadata": {},
   "outputs": [
    {
     "name": "stdout",
     "output_type": "stream",
     "text": [
      "{0: 0, 1: 1, 2: 4, 3: 9, 4: 16, 5: 25, 6: 36, 7: 49, 8: 64, 9: 81}\n"
     ]
    }
   ],
   "source": [
    "squares = { n: n*n for n in range(10)}\n",
    "\n",
    "pprint(squares)"
   ]
  },
  {
   "cell_type": "markdown",
   "metadata": {},
   "source": [
    "#### 4.6"
   ]
  },
  {
   "cell_type": "code",
   "execution_count": 34,
   "metadata": {},
   "outputs": [
    {
     "name": "stdout",
     "output_type": "stream",
     "text": [
      "{1, 3, 5, 7, 9}\n"
     ]
    }
   ],
   "source": [
    "odd = { n for n in range(10) if n % 2 }\n",
    "\n",
    "pprint(odd)"
   ]
  },
  {
   "cell_type": "markdown",
   "metadata": {},
   "source": [
    "#### 4.7"
   ]
  },
  {
   "cell_type": "code",
   "execution_count": 36,
   "metadata": {},
   "outputs": [
    {
     "name": "stdout",
     "output_type": "stream",
     "text": [
      "Got 0\n",
      "Got 1\n",
      "Got 2\n",
      "Got 3\n",
      "Got 4\n",
      "Got 5\n",
      "Got 6\n",
      "Got 7\n",
      "Got 8\n",
      "Got 9\n"
     ]
    }
   ],
   "source": [
    "goteem = (\"Got %d\" % n for n in range(10))\n",
    "\n",
    "for g in goteem:\n",
    "    print(g)\n"
   ]
  },
  {
   "cell_type": "markdown",
   "metadata": {},
   "source": [
    "#### 4.8"
   ]
  },
  {
   "cell_type": "code",
   "execution_count": 37,
   "metadata": {},
   "outputs": [
    {
     "name": "stdout",
     "output_type": "stream",
     "text": [
      "['Harry', 'Ron', 'Hermione']\n"
     ]
    }
   ],
   "source": [
    "def good():\n",
    "    return [\"Harry\", \"Ron\", \"Hermione\"]\n",
    "\n",
    "pprint(good())"
   ]
  },
  {
   "cell_type": "markdown",
   "metadata": {},
   "source": [
    "#### 4.9"
   ]
  },
  {
   "cell_type": "code",
   "execution_count": 38,
   "metadata": {},
   "outputs": [
    {
     "name": "stdout",
     "output_type": "stream",
     "text": [
      "5\n"
     ]
    }
   ],
   "source": [
    "def get_odds():\n",
    "    for n in range(10):\n",
    "        if n % 2:\n",
    "            yield n\n",
    "\n",
    "cnt = 0\n",
    "for i in get_odds():\n",
    "    cnt += 1\n",
    "    if cnt == 3:\n",
    "        print(i)\n"
   ]
  },
  {
   "cell_type": "markdown",
   "metadata": {},
   "source": [
    "#### 4.10"
   ]
  },
  {
   "cell_type": "code",
   "execution_count": 47,
   "metadata": {},
   "outputs": [
    {
     "name": "stdout",
     "output_type": "stream",
     "text": [
      "start\n",
      "end\n",
      "50\n"
     ]
    }
   ],
   "source": [
    "def test(func):\n",
    "    def test_inner(*args, **kwargs):\n",
    "        print(\"start\")\n",
    "        res = func(*args, **kwargs)\n",
    "        print(\"end\")\n",
    "        return res\n",
    "    return test_inner\n",
    "\n",
    "l = [1,2,3,5,6,50,-2]\n",
    "better_max = test(max)\n",
    "print(better_max(l))"
   ]
  },
  {
   "cell_type": "markdown",
   "metadata": {},
   "source": [
    "#### 4.11"
   ]
  },
  {
   "cell_type": "code",
   "execution_count": 52,
   "metadata": {},
   "outputs": [
    {
     "name": "stdout",
     "output_type": "stream",
     "text": [
      "Caught an oops\n",
      "OopsException('no reason',)\n"
     ]
    }
   ],
   "source": [
    "class OopsException(Exception):\n",
    "    pass\n",
    "\n",
    "#raise OopsException(\"no reason\")\n",
    "\n",
    "try:\n",
    "    raise OopsException(\"no reason\")\n",
    "except OopsException as err:\n",
    "    print(\"Caught an oops\")\n",
    "    pprint(err)"
   ]
  },
  {
   "cell_type": "markdown",
   "metadata": {},
   "source": [
    "#### 4.12"
   ]
  },
  {
   "cell_type": "code",
   "execution_count": 53,
   "metadata": {
    "scrolled": true
   },
   "outputs": [
    {
     "name": "stdout",
     "output_type": "stream",
     "text": [
      "{'Create of Habit': 'A nun turns into a monster',\n",
      " 'Crewel Fate': 'A haunted yarn shop'}\n"
     ]
    }
   ],
   "source": [
    "titles = ['Create of Habit', 'Crewel Fate']\n",
    "plots = ['A nun turns into a monster', 'A haunted yarn shop']\n",
    "\n",
    "plot_dict = dict(zip(titles,plots))\n",
    "\n",
    "pprint(plot_dict)"
   ]
  }
 ],
 "metadata": {
  "kernelspec": {
   "display_name": "Python 3",
   "language": "python",
   "name": "python3"
  },
  "language_info": {
   "codemirror_mode": {
    "name": "ipython",
    "version": 3
   },
   "file_extension": ".py",
   "mimetype": "text/x-python",
   "name": "python",
   "nbconvert_exporter": "python",
   "pygments_lexer": "ipython3",
   "version": "3.6.5"
  }
 },
 "nbformat": 4,
 "nbformat_minor": 2
}
