{
 "cells": [
  {
   "cell_type": "markdown",
   "metadata": {},
   "source": [
    "# Chapter 5 - Py Boxes: Modules, Packages, and Programs\n",
    "\n",
    "A brief chapter, focused more on the basics of how the above atoms are constructed and organized in file hierarchy:  Packages are collections of modules that are composed of classes or programs.  Also offers a few examples from the standard library."
   ]
  },
  {
   "cell_type": "code",
   "execution_count": 33,
   "metadata": {},
   "outputs": [],
   "source": [
    "from collections import defaultdict,Counter,OrderedDict\n",
    "from pprint import pprint\n",
    "import itertools"
   ]
  },
  {
   "cell_type": "markdown",
   "metadata": {},
   "source": [
    "## Python Standard Library\n",
    "\n",
    "### setdefault()"
   ]
  },
  {
   "cell_type": "code",
   "execution_count": 3,
   "metadata": {},
   "outputs": [
    {
     "name": "stdout",
     "output_type": "stream",
     "text": [
      "aDict 1:\n",
      "{'a': 1, 'b': 2}\n",
      "aDict 2\n",
      "{'a': 1, 'b': 2, 'c': 4}\n",
      "1 2 4\n"
     ]
    }
   ],
   "source": [
    "aDict = {\n",
    "    'a': 1,\n",
    "    'b': 2\n",
    "}\n",
    "\n",
    "print('aDict 1:')\n",
    "pprint(aDict)\n",
    "\n",
    "a = aDict.setdefault('a',1)\n",
    "b = aDict.setdefault('b',2)\n",
    "c = aDict.setdefault('c',4)\n",
    "\n",
    "print('aDict 2')\n",
    "pprint(aDict)\n",
    "\n",
    "print(a,b,c)\n"
   ]
  },
  {
   "cell_type": "markdown",
   "metadata": {},
   "source": [
    "### defaultdict()"
   ]
  },
  {
   "cell_type": "code",
   "execution_count": 4,
   "metadata": {},
   "outputs": [
    {
     "name": "stdout",
     "output_type": "stream",
     "text": [
      "defaultdict(<class 'int'>, {'Hydrogen': 1, 'Lead': 0})\n"
     ]
    }
   ],
   "source": [
    "periodic_table = defaultdict(int)\n",
    "periodic_table['Hydrogen'] = 1\n",
    "periodic_table['Lead']\n",
    "\n",
    "pprint(periodic_table)"
   ]
  },
  {
   "cell_type": "code",
   "execution_count": 5,
   "metadata": {},
   "outputs": [
    {
     "name": "stdout",
     "output_type": "stream",
     "text": [
      "before 99\n",
      "defaultdict(<function <lambda> at 0x7f62103b2c80>,\n",
      "            {1: 'cat',\n",
      "             65: 'dog',\n",
      "             77: 'hippo'})\n",
      "\n",
      "after 99\n",
      "defaultdict(<function <lambda> at 0x7f62103b2c80>,\n",
      "            {1: 'cat',\n",
      "             65: 'dog',\n",
      "             77: 'hippo',\n",
      "             99: 'Empty'})\n"
     ]
    }
   ],
   "source": [
    "animals = defaultdict(lambda: \"Empty\")\n",
    "animals[1] = 'cat'\n",
    "animals[65] = 'dog'\n",
    "animals[77] = 'hippo'\n",
    "\n",
    "print('before 99')\n",
    "pprint(animals)\n",
    "\n",
    "print()\n",
    "print('after 99')\n",
    "animal = animals[99]\n",
    "pprint(animals)"
   ]
  },
  {
   "cell_type": "markdown",
   "metadata": {},
   "source": [
    "Using default int for counter-based dictionaries:"
   ]
  },
  {
   "cell_type": "code",
   "execution_count": 6,
   "metadata": {},
   "outputs": [
    {
     "name": "stdout",
     "output_type": "stream",
     "text": [
      "defaultdict(<class 'int'>, {'spam': 3, 'eggs': 1})\n"
     ]
    }
   ],
   "source": [
    "counts = defaultdict(int)\n",
    "for food in ['spam', 'spam', 'eggs', 'spam']:\n",
    "    counts[food] += 1\n",
    "\n",
    "pprint(counts)"
   ]
  },
  {
   "cell_type": "markdown",
   "metadata": {},
   "source": [
    "### Counter()\n",
    "\n",
    "The collections module also has a built in dictionary specifically designed for counting things"
   ]
  },
  {
   "cell_type": "code",
   "execution_count": 9,
   "metadata": {},
   "outputs": [
    {
     "name": "stdout",
     "output_type": "stream",
     "text": [
      "Counter({'spam': 3, 'eggs': 1})\n",
      "Counter({'eggs': 2, 'bacon': 1})\n"
     ]
    }
   ],
   "source": [
    "breakfast = ['spam', 'spam', 'eggs', 'spam']\n",
    "lunch = ['eggs', 'eggs', 'bacon']\n",
    "\n",
    "breakfast_cnt = Counter(breakfast)\n",
    "lunch_cnt = Counter(lunch)\n",
    "\n",
    "pprint(breakfast_cnt)\n",
    "pprint(lunch_cnt)"
   ]
  },
  {
   "cell_type": "code",
   "execution_count": 10,
   "metadata": {},
   "outputs": [
    {
     "name": "stdout",
     "output_type": "stream",
     "text": [
      "Counter({'spam': 3, 'eggs': 3, 'bacon': 1})\n"
     ]
    }
   ],
   "source": [
    "pprint(breakfast_cnt + lunch_cnt)"
   ]
  },
  {
   "cell_type": "code",
   "execution_count": 11,
   "metadata": {},
   "outputs": [
    {
     "name": "stdout",
     "output_type": "stream",
     "text": [
      "Counter({'spam': 3})\n"
     ]
    }
   ],
   "source": [
    "pprint(breakfast_cnt - lunch_cnt)"
   ]
  },
  {
   "cell_type": "code",
   "execution_count": 12,
   "metadata": {},
   "outputs": [
    {
     "name": "stdout",
     "output_type": "stream",
     "text": [
      "Counter({'eggs': 1})\n"
     ]
    }
   ],
   "source": [
    "pprint(breakfast_cnt & lunch_cnt)"
   ]
  },
  {
   "cell_type": "code",
   "execution_count": 13,
   "metadata": {},
   "outputs": [
    {
     "name": "stdout",
     "output_type": "stream",
     "text": [
      "Counter({'spam': 3, 'eggs': 2, 'bacon': 1})\n"
     ]
    }
   ],
   "source": [
    "pprint(breakfast_cnt | lunch_cnt)"
   ]
  },
  {
   "cell_type": "markdown",
   "metadata": {},
   "source": [
    "### itertools\n",
    "\n",
    "[itertools web page](http://bit.ly/py-itertools)\n",
    "\n",
    "Includes such functions as chain, accumulate, cycle, takewhile, ..."
   ]
  },
  {
   "cell_type": "code",
   "execution_count": 16,
   "metadata": {},
   "outputs": [
    {
     "name": "stdout",
     "output_type": "stream",
     "text": [
      "1 2 3 4 5 6 7 a p p l e "
     ]
    }
   ],
   "source": [
    "s1 = [1,2,3,4,5]\n",
    "s2 = [6,7]\n",
    "s3 = 'apple'\n",
    "for i in itertools.chain(s1,s2,s3):\n",
    "    print(i,end=\" \")"
   ]
  },
  {
   "cell_type": "code",
   "execution_count": 18,
   "metadata": {},
   "outputs": [
    {
     "name": "stdout",
     "output_type": "stream",
     "text": [
      "6 7 6 7 6 7 6 7 6 7 6 7 6 7 6 7 6 7 6 7 6 7 6 7 6 7 6 7 6 7 6 "
     ]
    }
   ],
   "source": [
    "i = 0\n",
    "for item in itertools.cycle(s2):\n",
    "    print(item, end=\" \")\n",
    "    i += 1\n",
    "    if i > 30:\n",
    "        break\n"
   ]
  },
  {
   "cell_type": "code",
   "execution_count": 20,
   "metadata": {},
   "outputs": [
    {
     "name": "stdout",
     "output_type": "stream",
     "text": [
      "[1, 3, 6, 10, 15]\n"
     ]
    }
   ],
   "source": [
    "accs = [ n for n in itertools.accumulate(s1)]\n",
    "\n",
    "pprint(accs)"
   ]
  },
  {
   "cell_type": "code",
   "execution_count": 22,
   "metadata": {},
   "outputs": [
    {
     "name": "stdout",
     "output_type": "stream",
     "text": [
      "['a', 'p', 'p']\n"
     ]
    }
   ],
   "source": [
    "pprint([ n for n in itertools.takewhile(lambda c: c != 'l', s3)])"
   ]
  },
  {
   "cell_type": "markdown",
   "metadata": {},
   "source": [
    "## Things to Do\n",
    "\n",
    "### 5.1\n",
    "\n",
    "zoo.py created in ch5 directory"
   ]
  },
  {
   "cell_type": "code",
   "execution_count": 23,
   "metadata": {},
   "outputs": [
    {
     "name": "stdout",
     "output_type": "stream",
     "text": [
      "Open 9-5 daily\n"
     ]
    }
   ],
   "source": [
    "from ch5 import zoo\n",
    "\n",
    "zoo.hours()"
   ]
  },
  {
   "cell_type": "markdown",
   "metadata": {},
   "source": [
    "### 5.2"
   ]
  },
  {
   "cell_type": "code",
   "execution_count": 24,
   "metadata": {},
   "outputs": [
    {
     "name": "stdout",
     "output_type": "stream",
     "text": [
      "Open 9-5 daily\n"
     ]
    }
   ],
   "source": [
    "from ch5 import zoo as menagerie\n",
    "\n",
    "menagerie.hours()"
   ]
  },
  {
   "cell_type": "markdown",
   "metadata": {},
   "source": [
    "### 5.3"
   ]
  },
  {
   "cell_type": "code",
   "execution_count": 29,
   "metadata": {},
   "outputs": [
    {
     "name": "stdout",
     "output_type": "stream",
     "text": [
      "Open 9-5 daily\n"
     ]
    }
   ],
   "source": [
    "from ch5.zoo import hours\n",
    "\n",
    "hours()"
   ]
  },
  {
   "cell_type": "markdown",
   "metadata": {},
   "source": [
    "### 5.4"
   ]
  },
  {
   "cell_type": "code",
   "execution_count": 30,
   "metadata": {},
   "outputs": [
    {
     "name": "stdout",
     "output_type": "stream",
     "text": [
      "Open 9-5 daily\n"
     ]
    }
   ],
   "source": [
    "from ch5.zoo import hours as info\n",
    "\n",
    "info()"
   ]
  },
  {
   "cell_type": "markdown",
   "metadata": {},
   "source": [
    "### 5.5"
   ]
  },
  {
   "cell_type": "code",
   "execution_count": 35,
   "metadata": {},
   "outputs": [
    {
     "name": "stdout",
     "output_type": "stream",
     "text": [
      "{'a': 1, 'b': 2, 'c': 3}\n"
     ]
    }
   ],
   "source": [
    "plain = {}\n",
    "plain[\"a\"] = 1\n",
    "plain[\"b\"] = 2\n",
    "plain[\"c\"] = 3\n",
    "\n",
    "print(plain)"
   ]
  },
  {
   "cell_type": "markdown",
   "metadata": {},
   "source": [
    "### 5.6"
   ]
  },
  {
   "cell_type": "code",
   "execution_count": 37,
   "metadata": {},
   "outputs": [
    {
     "name": "stdout",
     "output_type": "stream",
     "text": [
      "OrderedDict([('a', 1), ('b', 2), ('c', 3)])\n"
     ]
    }
   ],
   "source": [
    "fancy = OrderedDict()\n",
    "fancy['a'] = 1\n",
    "fancy['b'] = 2\n",
    "fancy['c'] = 3\n",
    "\n",
    "print(fancy)"
   ]
  },
  {
   "cell_type": "markdown",
   "metadata": {},
   "source": [
    "### 5.7"
   ]
  },
  {
   "cell_type": "code",
   "execution_count": 38,
   "metadata": {},
   "outputs": [
    {
     "name": "stdout",
     "output_type": "stream",
     "text": [
      "['something for a']\n"
     ]
    }
   ],
   "source": [
    "dict_of_lists = defaultdict(list)\n",
    "dict_of_lists['a'].append('something for a')\n",
    "\n",
    "print(dict_of_lists['a'])"
   ]
  }
 ],
 "metadata": {
  "kernelspec": {
   "display_name": "Python 3",
   "language": "python",
   "name": "python3"
  },
  "language_info": {
   "codemirror_mode": {
    "name": "ipython",
    "version": 3
   },
   "file_extension": ".py",
   "mimetype": "text/x-python",
   "name": "python",
   "nbconvert_exporter": "python",
   "pygments_lexer": "ipython3",
   "version": "3.6.5"
  }
 },
 "nbformat": 4,
 "nbformat_minor": 2
}
