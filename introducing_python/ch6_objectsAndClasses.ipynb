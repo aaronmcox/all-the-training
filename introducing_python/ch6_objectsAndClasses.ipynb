{
 "cells": [
  {
   "cell_type": "markdown",
   "metadata": {},
   "source": [
    "# Chapter 6 - Oh Oh: Objects and Classes"
   ]
  },
  {
   "cell_type": "markdown",
   "metadata": {},
   "source": [
    "## Inheritance"
   ]
  },
  {
   "cell_type": "code",
   "execution_count": 1,
   "metadata": {},
   "outputs": [
    {
     "name": "stdout",
     "output_type": "stream",
     "text": [
      "I'm a Car!\n",
      "I'm a Car!\n"
     ]
    }
   ],
   "source": [
    "class Car():\n",
    "    def exclaim(self):\n",
    "        print(\"I'm a Car!\")\n",
    "\n",
    "class Yugo(Car):\n",
    "    pass\n",
    "\n",
    "aCar = Car()\n",
    "yugo = Yugo()\n",
    "\n",
    "aCar.exclaim()\n",
    "yugo.exclaim()"
   ]
  },
  {
   "cell_type": "markdown",
   "metadata": {},
   "source": [
    "### Overriding Methods"
   ]
  },
  {
   "cell_type": "code",
   "execution_count": 2,
   "metadata": {},
   "outputs": [
    {
     "name": "stdout",
     "output_type": "stream",
     "text": [
      "I'm a Car!\n",
      "I'm a Yugo!\n"
     ]
    }
   ],
   "source": [
    "class Yugo(Car):\n",
    "    def exclaim(self):\n",
    "        print(\"I'm a Yugo!\")\n",
    "\n",
    "yugo = Yugo()\n",
    "\n",
    "aCar.exclaim()\n",
    "yugo.exclaim()"
   ]
  },
  {
   "cell_type": "markdown",
   "metadata": {},
   "source": [
    "### Using super()\n",
    "\n",
    "When you override an important method like \\_\\_init\\_\\_, you lose anything the base class does for initialization.  To call a parent class's functions, use `super()`"
   ]
  },
  {
   "cell_type": "code",
   "execution_count": 5,
   "metadata": {},
   "outputs": [
    {
     "name": "stdout",
     "output_type": "stream",
     "text": [
      "Sorry, error:\n",
      "\t'EmailPerson' object has no attribute 'name'\n"
     ]
    }
   ],
   "source": [
    "class Person():\n",
    "    def __init__(self, name):\n",
    "        self.name = name\n",
    "    \n",
    "class EmailPerson(Person):\n",
    "    def __init__(self,  name, email):\n",
    "        self.email = email\n",
    "\n",
    "p = Person('bob')\n",
    "ep = EmailPerson('bill', 'b@gmail.com')\n",
    "\n",
    "try:\n",
    "    print(ep.name)\n",
    "except Exception as ex:\n",
    "    print(\"Sorry, error:\")\n",
    "    print(\"\\t\",ex,sep=\"\")"
   ]
  },
  {
   "cell_type": "markdown",
   "metadata": {},
   "source": [
    "Now, with **super()**"
   ]
  },
  {
   "cell_type": "code",
   "execution_count": 11,
   "metadata": {},
   "outputs": [
    {
     "name": "stdout",
     "output_type": "stream",
     "text": [
      "bill b@gmail.com\n"
     ]
    }
   ],
   "source": [
    "class EmailPerson(Person):\n",
    "    def __init__(self,  name, email):\n",
    "        super().__init__(name)\n",
    "        self.email = email\n",
    "\n",
    "ep = EmailPerson('bill', 'b@gmail.com')\n",
    "print(ep.name, ep.email)"
   ]
  },
  {
   "cell_type": "markdown",
   "metadata": {},
   "source": [
    "## Properties\n",
    "\n",
    "Rather than make getters and setters, user properties"
   ]
  },
  {
   "cell_type": "code",
   "execution_count": null,
   "metadata": {},
   "outputs": [],
   "source": []
  }
 ],
 "metadata": {
  "kernelspec": {
   "display_name": "Python 3",
   "language": "python",
   "name": "python3"
  },
  "language_info": {
   "codemirror_mode": {
    "name": "ipython",
    "version": 3
   },
   "file_extension": ".py",
   "mimetype": "text/x-python",
   "name": "python",
   "nbconvert_exporter": "python",
   "pygments_lexer": "ipython3",
   "version": "3.6.5"
  }
 },
 "nbformat": 4,
 "nbformat_minor": 2
}
